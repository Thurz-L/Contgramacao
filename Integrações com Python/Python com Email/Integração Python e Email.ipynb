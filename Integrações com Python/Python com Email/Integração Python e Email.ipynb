{
 "cells": [
  {
   "cell_type": "code",
   "execution_count": 7,
   "id": "8596c3d0",
   "metadata": {},
   "outputs": [
    {
     "name": "stdout",
     "output_type": "stream",
     "text": [
      "Email enviado\n"
     ]
    }
   ],
   "source": [
    "# Importa a biblioteca smtplib para enviar o email usando o protocolo SMTP (Simple Mail Transfer Protocol)\n",
    "import smtplib\n",
    "\n",
    "# Importa a classe email.message para criar uma mensagem de email\n",
    "import email.message\n",
    "\n",
    "# Importa os módulos MIMEText, MIMEApplication e MIMEMultipart da biblioteca email.mime para criar partes do email\n",
    "from email.mime.text import MIMEText\n",
    "from email.mime.application import MIMEApplication\n",
    "from email.mime.multipart import MIMEMultipart\n",
    "\n",
    "def enviar_email():\n",
    "    # Corpo do email em formato HTML\n",
    "    corpo_email = \"\"\"\n",
    "    <p> Olá Contgramação,  </p>\n",
    "    <p>Segue anexo a planilha em Reais sobre a parte de cada um sobre o pagamento de salário do Líder de Contgramação</p>\n",
    "    \"\"\"\n",
    "\n",
    "    # Inicialização da mensagem de email como um objeto MIMEMultipart\n",
    "    msg = MIMEMultipart()\n",
    "\n",
    "    # Definição do assunto do email\n",
    "    msg['Subject'] = 'Contgramação - Teste Email'\n",
    "\n",
    "    # Endereço de email do remetente\n",
    "    msg[\"From\"] = 'XXXXXXXXXXXXXX@gmail.com'\n",
    "\n",
    "    # Endereço de email do destinatário\n",
    "    msg[\"To\"] = 'XXXXXXXXXXX@gmail.com\"\n",
    "\n",
    "    # Senha da conta de email do remetente\n",
    "    password = 'XXXX XXXX XXXX XXXX'\n",
    "\n",
    "    # Adicione o corpo do email como uma parte do tipo MIMEText com formato HTML\n",
    "    msg.attach(MIMEText(corpo_email, 'html'))\n",
    "\n",
    "    # Anexe o arquivo CSV\n",
    "    file_path = 'C:/Users/arthu/Downloads/Python Email/RelatorioExcel.xlsx - Planilha1 (1).csv'\n",
    "    with open(file_path, 'rb') as file:\n",
    "        # Cria uma parte do tipo MIMEApplication para anexar o arquivo CSV\n",
    "        part = MIMEApplication(file.read(), Name=\"RelatorioExcel.xlsx - Planilha1 (1).csv\")\n",
    "    part['Content-Disposition'] = f'attachment; filename=\"RelatorioExcel.xlsx - Planilha1 (1).csv\"'\n",
    "    msg.attach(part) \n",
    "\n",
    "    # Configuração do servidor SMTP do Gmail\n",
    "    s = smtplib.SMTP('smtp.gmail.com', 587)\n",
    "    s.starttls()\n",
    "\n",
    "    # Login na conta de email do remetente\n",
    "    s.login(msg[\"From\"], password)\n",
    "\n",
    "    # Envio do email\n",
    "    s.sendmail(msg[\"From\"], msg[\"To\"].split(','), msg.as_string().encode('utf-8'))\n",
    "\n",
    "    # Exibir uma mensagem indicando que o email foi enviado com sucesso\n",
    "    print('Email enviado')\n",
    "\n",
    "# Chama a função para enviar o email\n",
    "enviar_email()"
   ]
  },
  {
   "cell_type": "code",
   "execution_count": null,
   "id": "85a2f73e",
   "metadata": {},
   "outputs": [],
   "source": []
  }
 ],
 "metadata": {
  "kernelspec": {
   "display_name": "Python 3 (ipykernel)",
   "language": "python",
   "name": "python3"
  },
  "language_info": {
   "codemirror_mode": {
    "name": "ipython",
    "version": 3
   },
   "file_extension": ".py",
   "mimetype": "text/x-python",
   "name": "python",
   "nbconvert_exporter": "python",
   "pygments_lexer": "ipython3",
   "version": "3.9.7"
  }
 },
 "nbformat": 4,
 "nbformat_minor": 5
}
